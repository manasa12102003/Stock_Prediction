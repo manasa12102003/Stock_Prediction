{
 "cells": [
  {
   "cell_type": "markdown",
   "id": "d2576c59",
   "metadata": {},
   "source": [
    "# Bharat Intern Task-1\n",
    " \n",
    "# Data Science\n",
    "\n",
    "# Task :-Stock Prediction using LSTM Model\n",
    "\n",
    "# Name :-Kuraku Manasa"
   ]
  },
  {
   "cell_type": "markdown",
   "id": "d89ffb6b",
   "metadata": {},
   "source": [
    "# Importing Modules"
   ]
  },
  {
   "cell_type": "code",
   "execution_count": 2,
   "id": "6633a065",
   "metadata": {},
   "outputs": [
    {
     "name": "stdout",
     "output_type": "stream",
     "text": [
      "Requirement already satisfied: numpy in c:\\users\\kurak\\anaconda3\\lib\\site-packages (1.23.5)\n",
      "Requirement already satisfied: pandas in c:\\users\\kurak\\anaconda3\\lib\\site-packages (1.5.3)\n",
      "Requirement already satisfied: keras in c:\\users\\kurak\\anaconda3\\lib\\site-packages (2.13.1)\n",
      "Requirement already satisfied: tensorflow in c:\\users\\kurak\\anaconda3\\lib\\site-packages (2.13.0)\n",
      "Requirement already satisfied: pytz>=2020.1 in c:\\users\\kurak\\anaconda3\\lib\\site-packages (from pandas) (2022.7)\n",
      "Requirement already satisfied: python-dateutil>=2.8.1 in c:\\users\\kurak\\anaconda3\\lib\\site-packages (from pandas) (2.8.2)\n",
      "Requirement already satisfied: tensorflow-intel==2.13.0 in c:\\users\\kurak\\anaconda3\\lib\\site-packages (from tensorflow) (2.13.0)\n",
      "Requirement already satisfied: astunparse>=1.6.0 in c:\\users\\kurak\\anaconda3\\lib\\site-packages (from tensorflow-intel==2.13.0->tensorflow) (1.6.3)\n",
      "Requirement already satisfied: opt-einsum>=2.3.2 in c:\\users\\kurak\\anaconda3\\lib\\site-packages (from tensorflow-intel==2.13.0->tensorflow) (3.3.0)\n",
      "Requirement already satisfied: h5py>=2.9.0 in c:\\users\\kurak\\anaconda3\\lib\\site-packages (from tensorflow-intel==2.13.0->tensorflow) (3.7.0)\n",
      "Requirement already satisfied: grpcio<2.0,>=1.24.3 in c:\\users\\kurak\\anaconda3\\lib\\site-packages (from tensorflow-intel==2.13.0->tensorflow) (1.56.0)\n",
      "Requirement already satisfied: gast<=0.4.0,>=0.2.1 in c:\\users\\kurak\\anaconda3\\lib\\site-packages (from tensorflow-intel==2.13.0->tensorflow) (0.4.0)\n",
      "Requirement already satisfied: libclang>=13.0.0 in c:\\users\\kurak\\anaconda3\\lib\\site-packages (from tensorflow-intel==2.13.0->tensorflow) (16.0.0)\n",
      "Requirement already satisfied: setuptools in c:\\users\\kurak\\anaconda3\\lib\\site-packages (from tensorflow-intel==2.13.0->tensorflow) (65.6.3)\n",
      "Requirement already satisfied: protobuf!=4.21.0,!=4.21.1,!=4.21.2,!=4.21.3,!=4.21.4,!=4.21.5,<5.0.0dev,>=3.20.3 in c:\\users\\kurak\\anaconda3\\lib\\site-packages (from tensorflow-intel==2.13.0->tensorflow) (4.23.4)\n",
      "Requirement already satisfied: tensorflow-io-gcs-filesystem>=0.23.1 in c:\\users\\kurak\\anaconda3\\lib\\site-packages (from tensorflow-intel==2.13.0->tensorflow) (0.31.0)\n",
      "Requirement already satisfied: wrapt>=1.11.0 in c:\\users\\kurak\\anaconda3\\lib\\site-packages (from tensorflow-intel==2.13.0->tensorflow) (1.14.1)\n",
      "Requirement already satisfied: packaging in c:\\users\\kurak\\anaconda3\\lib\\site-packages (from tensorflow-intel==2.13.0->tensorflow) (22.0)\n",
      "Requirement already satisfied: termcolor>=1.1.0 in c:\\users\\kurak\\anaconda3\\lib\\site-packages (from tensorflow-intel==2.13.0->tensorflow) (2.3.0)\n",
      "Requirement already satisfied: flatbuffers>=23.1.21 in c:\\users\\kurak\\anaconda3\\lib\\site-packages (from tensorflow-intel==2.13.0->tensorflow) (23.5.26)\n",
      "Requirement already satisfied: six>=1.12.0 in c:\\users\\kurak\\anaconda3\\lib\\site-packages (from tensorflow-intel==2.13.0->tensorflow) (1.16.0)\n",
      "Requirement already satisfied: tensorboard<2.14,>=2.13 in c:\\users\\kurak\\anaconda3\\lib\\site-packages (from tensorflow-intel==2.13.0->tensorflow) (2.13.0)\n",
      "Requirement already satisfied: absl-py>=1.0.0 in c:\\users\\kurak\\anaconda3\\lib\\site-packages (from tensorflow-intel==2.13.0->tensorflow) (1.4.0)\n",
      "Requirement already satisfied: tensorflow-estimator<2.14,>=2.13.0 in c:\\users\\kurak\\anaconda3\\lib\\site-packages (from tensorflow-intel==2.13.0->tensorflow) (2.13.0)\n",
      "Requirement already satisfied: google-pasta>=0.1.1 in c:\\users\\kurak\\anaconda3\\lib\\site-packages (from tensorflow-intel==2.13.0->tensorflow) (0.2.0)\n",
      "Requirement already satisfied: typing-extensions<4.6.0,>=3.6.6 in c:\\users\\kurak\\anaconda3\\lib\\site-packages (from tensorflow-intel==2.13.0->tensorflow) (4.4.0)\n",
      "Requirement already satisfied: wheel<1.0,>=0.23.0 in c:\\users\\kurak\\anaconda3\\lib\\site-packages (from astunparse>=1.6.0->tensorflow-intel==2.13.0->tensorflow) (0.38.4)\n",
      "Requirement already satisfied: google-auth<3,>=1.6.3 in c:\\users\\kurak\\anaconda3\\lib\\site-packages (from tensorboard<2.14,>=2.13->tensorflow-intel==2.13.0->tensorflow) (2.21.0)\n",
      "Requirement already satisfied: markdown>=2.6.8 in c:\\users\\kurak\\anaconda3\\lib\\site-packages (from tensorboard<2.14,>=2.13->tensorflow-intel==2.13.0->tensorflow) (3.4.1)\n",
      "Requirement already satisfied: requests<3,>=2.21.0 in c:\\users\\kurak\\anaconda3\\lib\\site-packages (from tensorboard<2.14,>=2.13->tensorflow-intel==2.13.0->tensorflow) (2.28.1)\n",
      "Requirement already satisfied: tensorboard-data-server<0.8.0,>=0.7.0 in c:\\users\\kurak\\anaconda3\\lib\\site-packages (from tensorboard<2.14,>=2.13->tensorflow-intel==2.13.0->tensorflow) (0.7.1)\n",
      "Requirement already satisfied: werkzeug>=1.0.1 in c:\\users\\kurak\\anaconda3\\lib\\site-packages (from tensorboard<2.14,>=2.13->tensorflow-intel==2.13.0->tensorflow) (2.2.2)\n",
      "Requirement already satisfied: google-auth-oauthlib<1.1,>=0.5 in c:\\users\\kurak\\anaconda3\\lib\\site-packages (from tensorboard<2.14,>=2.13->tensorflow-intel==2.13.0->tensorflow) (1.0.0)\n",
      "Requirement already satisfied: cachetools<6.0,>=2.0.0 in c:\\users\\kurak\\anaconda3\\lib\\site-packages (from google-auth<3,>=1.6.3->tensorboard<2.14,>=2.13->tensorflow-intel==2.13.0->tensorflow) (5.3.1)\n",
      "Requirement already satisfied: urllib3<2.0 in c:\\users\\kurak\\anaconda3\\lib\\site-packages (from google-auth<3,>=1.6.3->tensorboard<2.14,>=2.13->tensorflow-intel==2.13.0->tensorflow) (1.26.14)\n",
      "Requirement already satisfied: pyasn1-modules>=0.2.1 in c:\\users\\kurak\\anaconda3\\lib\\site-packages (from google-auth<3,>=1.6.3->tensorboard<2.14,>=2.13->tensorflow-intel==2.13.0->tensorflow) (0.2.8)\n",
      "Requirement already satisfied: rsa<5,>=3.1.4 in c:\\users\\kurak\\anaconda3\\lib\\site-packages (from google-auth<3,>=1.6.3->tensorboard<2.14,>=2.13->tensorflow-intel==2.13.0->tensorflow) (4.9)\n",
      "Requirement already satisfied: requests-oauthlib>=0.7.0 in c:\\users\\kurak\\anaconda3\\lib\\site-packages (from google-auth-oauthlib<1.1,>=0.5->tensorboard<2.14,>=2.13->tensorflow-intel==2.13.0->tensorflow) (1.3.1)\n",
      "Requirement already satisfied: certifi>=2017.4.17 in c:\\users\\kurak\\anaconda3\\lib\\site-packages (from requests<3,>=2.21.0->tensorboard<2.14,>=2.13->tensorflow-intel==2.13.0->tensorflow) (2023.5.7)\n",
      "Requirement already satisfied: charset-normalizer<3,>=2 in c:\\users\\kurak\\anaconda3\\lib\\site-packages (from requests<3,>=2.21.0->tensorboard<2.14,>=2.13->tensorflow-intel==2.13.0->tensorflow) (2.0.4)\n",
      "Requirement already satisfied: idna<4,>=2.5 in c:\\users\\kurak\\anaconda3\\lib\\site-packages (from requests<3,>=2.21.0->tensorboard<2.14,>=2.13->tensorflow-intel==2.13.0->tensorflow) (3.4)\n",
      "Requirement already satisfied: MarkupSafe>=2.1.1 in c:\\users\\kurak\\anaconda3\\lib\\site-packages (from werkzeug>=1.0.1->tensorboard<2.14,>=2.13->tensorflow-intel==2.13.0->tensorflow) (2.1.1)\n",
      "Requirement already satisfied: pyasn1<0.5.0,>=0.4.6 in c:\\users\\kurak\\anaconda3\\lib\\site-packages (from pyasn1-modules>=0.2.1->google-auth<3,>=1.6.3->tensorboard<2.14,>=2.13->tensorflow-intel==2.13.0->tensorflow) (0.4.8)\n",
      "Requirement already satisfied: oauthlib>=3.0.0 in c:\\users\\kurak\\anaconda3\\lib\\site-packages (from requests-oauthlib>=0.7.0->google-auth-oauthlib<1.1,>=0.5->tensorboard<2.14,>=2.13->tensorflow-intel==2.13.0->tensorflow) (3.2.2)\n",
      "Note: you may need to restart the kernel to use updated packages.\n"
     ]
    }
   ],
   "source": [
    "pip install numpy pandas keras tensorflow"
   ]
  },
  {
   "cell_type": "code",
   "execution_count": 1,
   "id": "ca9ee9f8",
   "metadata": {},
   "outputs": [],
   "source": [
    "import numpy as np\n",
    "import pandas as pd\n",
    "import matplotlib.pyplot as plt \n",
    "from sklearn import model_selection\n",
    "from sklearn.metrics import confusion_matrix\n",
    "from sklearn.preprocessing import StandardScaler\n",
    "from sklearn.model_selection import train_test_split\n",
    "from sklearn.preprocessing import MinMaxScaler\n",
    "from keras.models import Sequential\n",
    "from keras.layers import Dense\n",
    "from keras.layers import LSTM\n",
    "from keras.layers import Dropout"
   ]
  },
  {
   "cell_type": "markdown",
   "id": "34c64e63",
   "metadata": {},
   "source": [
    "# Reading the Dataset"
   ]
  },
  {
   "cell_type": "code",
   "execution_count": 3,
   "id": "dd9b0805",
   "metadata": {},
   "outputs": [
    {
     "data": {
      "text/html": [
       "<div>\n",
       "<style scoped>\n",
       "    .dataframe tbody tr th:only-of-type {\n",
       "        vertical-align: middle;\n",
       "    }\n",
       "\n",
       "    .dataframe tbody tr th {\n",
       "        vertical-align: top;\n",
       "    }\n",
       "\n",
       "    .dataframe thead th {\n",
       "        text-align: right;\n",
       "    }\n",
       "</style>\n",
       "<table border=\"1\" class=\"dataframe\">\n",
       "  <thead>\n",
       "    <tr style=\"text-align: right;\">\n",
       "      <th></th>\n",
       "      <th>Date</th>\n",
       "      <th>Open</th>\n",
       "      <th>High</th>\n",
       "      <th>Low</th>\n",
       "      <th>Close</th>\n",
       "      <th>Adj Close</th>\n",
       "      <th>Volume</th>\n",
       "    </tr>\n",
       "  </thead>\n",
       "  <tbody>\n",
       "    <tr>\n",
       "      <th>0</th>\n",
       "      <td>2022-06-30</td>\n",
       "      <td>224.509995</td>\n",
       "      <td>229.456665</td>\n",
       "      <td>218.863327</td>\n",
       "      <td>224.473328</td>\n",
       "      <td>224.473328</td>\n",
       "      <td>94600500</td>\n",
       "    </tr>\n",
       "    <tr>\n",
       "      <th>1</th>\n",
       "      <td>2022-07-01</td>\n",
       "      <td>227.000000</td>\n",
       "      <td>230.229996</td>\n",
       "      <td>222.119995</td>\n",
       "      <td>227.263336</td>\n",
       "      <td>227.263336</td>\n",
       "      <td>74460300</td>\n",
       "    </tr>\n",
       "    <tr>\n",
       "      <th>2</th>\n",
       "      <td>2022-07-05</td>\n",
       "      <td>223.000000</td>\n",
       "      <td>233.146667</td>\n",
       "      <td>216.166672</td>\n",
       "      <td>233.066666</td>\n",
       "      <td>233.066666</td>\n",
       "      <td>84581100</td>\n",
       "    </tr>\n",
       "    <tr>\n",
       "      <th>3</th>\n",
       "      <td>2022-07-06</td>\n",
       "      <td>230.779999</td>\n",
       "      <td>234.563339</td>\n",
       "      <td>227.186661</td>\n",
       "      <td>231.733337</td>\n",
       "      <td>231.733337</td>\n",
       "      <td>71853600</td>\n",
       "    </tr>\n",
       "    <tr>\n",
       "      <th>4</th>\n",
       "      <td>2022-07-07</td>\n",
       "      <td>233.919998</td>\n",
       "      <td>245.363327</td>\n",
       "      <td>232.210007</td>\n",
       "      <td>244.543335</td>\n",
       "      <td>244.543335</td>\n",
       "      <td>81930600</td>\n",
       "    </tr>\n",
       "  </tbody>\n",
       "</table>\n",
       "</div>"
      ],
      "text/plain": [
       "         Date        Open        High         Low       Close   Adj Close  \\\n",
       "0  2022-06-30  224.509995  229.456665  218.863327  224.473328  224.473328   \n",
       "1  2022-07-01  227.000000  230.229996  222.119995  227.263336  227.263336   \n",
       "2  2022-07-05  223.000000  233.146667  216.166672  233.066666  233.066666   \n",
       "3  2022-07-06  230.779999  234.563339  227.186661  231.733337  231.733337   \n",
       "4  2022-07-07  233.919998  245.363327  232.210007  244.543335  244.543335   \n",
       "\n",
       "     Volume  \n",
       "0  94600500  \n",
       "1  74460300  \n",
       "2  84581100  \n",
       "3  71853600  \n",
       "4  81930600  "
      ]
     },
     "execution_count": 3,
     "metadata": {},
     "output_type": "execute_result"
    }
   ],
   "source": [
    "df = pd.read_csv(\"TSLA.csv\")\n",
    "df.head()"
   ]
  },
  {
   "cell_type": "code",
   "execution_count": 6,
   "id": "488a743a",
   "metadata": {},
   "outputs": [
    {
     "data": {
      "text/html": [
       "<div>\n",
       "<style scoped>\n",
       "    .dataframe tbody tr th:only-of-type {\n",
       "        vertical-align: middle;\n",
       "    }\n",
       "\n",
       "    .dataframe tbody tr th {\n",
       "        vertical-align: top;\n",
       "    }\n",
       "\n",
       "    .dataframe thead th {\n",
       "        text-align: right;\n",
       "    }\n",
       "</style>\n",
       "<table border=\"1\" class=\"dataframe\">\n",
       "  <thead>\n",
       "    <tr style=\"text-align: right;\">\n",
       "      <th></th>\n",
       "      <th>Date</th>\n",
       "      <th>Open</th>\n",
       "      <th>High</th>\n",
       "      <th>Low</th>\n",
       "      <th>Close</th>\n",
       "      <th>Adj Close</th>\n",
       "      <th>Volume</th>\n",
       "    </tr>\n",
       "  </thead>\n",
       "  <tbody>\n",
       "    <tr>\n",
       "      <th>246</th>\n",
       "      <td>2023-06-23</td>\n",
       "      <td>259.290009</td>\n",
       "      <td>262.450012</td>\n",
       "      <td>252.800003</td>\n",
       "      <td>256.600006</td>\n",
       "      <td>256.600006</td>\n",
       "      <td>176584100</td>\n",
       "    </tr>\n",
       "    <tr>\n",
       "      <th>247</th>\n",
       "      <td>2023-06-26</td>\n",
       "      <td>250.070007</td>\n",
       "      <td>258.369995</td>\n",
       "      <td>240.699997</td>\n",
       "      <td>241.050003</td>\n",
       "      <td>241.050003</td>\n",
       "      <td>179990600</td>\n",
       "    </tr>\n",
       "    <tr>\n",
       "      <th>248</th>\n",
       "      <td>2023-06-27</td>\n",
       "      <td>243.240005</td>\n",
       "      <td>250.389999</td>\n",
       "      <td>240.850006</td>\n",
       "      <td>250.210007</td>\n",
       "      <td>250.210007</td>\n",
       "      <td>164968200</td>\n",
       "    </tr>\n",
       "    <tr>\n",
       "      <th>249</th>\n",
       "      <td>2023-06-28</td>\n",
       "      <td>249.699997</td>\n",
       "      <td>259.880005</td>\n",
       "      <td>248.889999</td>\n",
       "      <td>256.239990</td>\n",
       "      <td>256.239990</td>\n",
       "      <td>159770800</td>\n",
       "    </tr>\n",
       "    <tr>\n",
       "      <th>250</th>\n",
       "      <td>2023-06-29</td>\n",
       "      <td>258.029999</td>\n",
       "      <td>260.739990</td>\n",
       "      <td>253.610001</td>\n",
       "      <td>257.500000</td>\n",
       "      <td>257.500000</td>\n",
       "      <td>130834000</td>\n",
       "    </tr>\n",
       "  </tbody>\n",
       "</table>\n",
       "</div>"
      ],
      "text/plain": [
       "           Date        Open        High         Low       Close   Adj Close  \\\n",
       "246  2023-06-23  259.290009  262.450012  252.800003  256.600006  256.600006   \n",
       "247  2023-06-26  250.070007  258.369995  240.699997  241.050003  241.050003   \n",
       "248  2023-06-27  243.240005  250.389999  240.850006  250.210007  250.210007   \n",
       "249  2023-06-28  249.699997  259.880005  248.889999  256.239990  256.239990   \n",
       "250  2023-06-29  258.029999  260.739990  253.610001  257.500000  257.500000   \n",
       "\n",
       "        Volume  \n",
       "246  176584100  \n",
       "247  179990600  \n",
       "248  164968200  \n",
       "249  159770800  \n",
       "250  130834000  "
      ]
     },
     "execution_count": 6,
     "metadata": {},
     "output_type": "execute_result"
    }
   ],
   "source": [
    "df.tail()"
   ]
  },
  {
   "cell_type": "markdown",
   "id": "1a166b93",
   "metadata": {},
   "source": [
    "# Displaying the basic statistics about Data"
   ]
  },
  {
   "cell_type": "code",
   "execution_count": 7,
   "id": "59fdccbb",
   "metadata": {},
   "outputs": [
    {
     "data": {
      "text/html": [
       "<div>\n",
       "<style scoped>\n",
       "    .dataframe tbody tr th:only-of-type {\n",
       "        vertical-align: middle;\n",
       "    }\n",
       "\n",
       "    .dataframe tbody tr th {\n",
       "        vertical-align: top;\n",
       "    }\n",
       "\n",
       "    .dataframe thead th {\n",
       "        text-align: right;\n",
       "    }\n",
       "</style>\n",
       "<table border=\"1\" class=\"dataframe\">\n",
       "  <thead>\n",
       "    <tr style=\"text-align: right;\">\n",
       "      <th></th>\n",
       "      <th>Open</th>\n",
       "      <th>High</th>\n",
       "      <th>Low</th>\n",
       "      <th>Close</th>\n",
       "      <th>Adj Close</th>\n",
       "      <th>Volume</th>\n",
       "    </tr>\n",
       "  </thead>\n",
       "  <tbody>\n",
       "    <tr>\n",
       "      <th>count</th>\n",
       "      <td>251.000000</td>\n",
       "      <td>251.000000</td>\n",
       "      <td>251.000000</td>\n",
       "      <td>251.000000</td>\n",
       "      <td>251.000000</td>\n",
       "      <td>2.510000e+02</td>\n",
       "    </tr>\n",
       "    <tr>\n",
       "      <th>mean</th>\n",
       "      <td>210.994475</td>\n",
       "      <td>215.830305</td>\n",
       "      <td>205.951447</td>\n",
       "      <td>211.067384</td>\n",
       "      <td>211.067384</td>\n",
       "      <td>1.225008e+08</td>\n",
       "    </tr>\n",
       "    <tr>\n",
       "      <th>std</th>\n",
       "      <td>51.700800</td>\n",
       "      <td>52.411087</td>\n",
       "      <td>51.026823</td>\n",
       "      <td>51.703986</td>\n",
       "      <td>51.703986</td>\n",
       "      <td>4.999643e+07</td>\n",
       "    </tr>\n",
       "    <tr>\n",
       "      <th>min</th>\n",
       "      <td>103.000000</td>\n",
       "      <td>111.750000</td>\n",
       "      <td>101.809998</td>\n",
       "      <td>108.099998</td>\n",
       "      <td>108.099998</td>\n",
       "      <td>4.186470e+07</td>\n",
       "    </tr>\n",
       "    <tr>\n",
       "      <th>25%</th>\n",
       "      <td>176.635002</td>\n",
       "      <td>182.419998</td>\n",
       "      <td>172.504998</td>\n",
       "      <td>178.474998</td>\n",
       "      <td>178.474998</td>\n",
       "      <td>8.141040e+07</td>\n",
       "    </tr>\n",
       "    <tr>\n",
       "      <th>50%</th>\n",
       "      <td>198.539993</td>\n",
       "      <td>203.000000</td>\n",
       "      <td>192.889999</td>\n",
       "      <td>197.580002</td>\n",
       "      <td>197.580002</td>\n",
       "      <td>1.163124e+08</td>\n",
       "    </tr>\n",
       "    <tr>\n",
       "      <th>75%</th>\n",
       "      <td>249.885002</td>\n",
       "      <td>256.330002</td>\n",
       "      <td>242.751670</td>\n",
       "      <td>250.020004</td>\n",
       "      <td>250.020004</td>\n",
       "      <td>1.591312e+08</td>\n",
       "    </tr>\n",
       "    <tr>\n",
       "      <th>max</th>\n",
       "      <td>311.666656</td>\n",
       "      <td>314.666656</td>\n",
       "      <td>305.579987</td>\n",
       "      <td>309.320007</td>\n",
       "      <td>309.320007</td>\n",
       "      <td>3.065906e+08</td>\n",
       "    </tr>\n",
       "  </tbody>\n",
       "</table>\n",
       "</div>"
      ],
      "text/plain": [
       "             Open        High         Low       Close   Adj Close  \\\n",
       "count  251.000000  251.000000  251.000000  251.000000  251.000000   \n",
       "mean   210.994475  215.830305  205.951447  211.067384  211.067384   \n",
       "std     51.700800   52.411087   51.026823   51.703986   51.703986   \n",
       "min    103.000000  111.750000  101.809998  108.099998  108.099998   \n",
       "25%    176.635002  182.419998  172.504998  178.474998  178.474998   \n",
       "50%    198.539993  203.000000  192.889999  197.580002  197.580002   \n",
       "75%    249.885002  256.330002  242.751670  250.020004  250.020004   \n",
       "max    311.666656  314.666656  305.579987  309.320007  309.320007   \n",
       "\n",
       "             Volume  \n",
       "count  2.510000e+02  \n",
       "mean   1.225008e+08  \n",
       "std    4.999643e+07  \n",
       "min    4.186470e+07  \n",
       "25%    8.141040e+07  \n",
       "50%    1.163124e+08  \n",
       "75%    1.591312e+08  \n",
       "max    3.065906e+08  "
      ]
     },
     "execution_count": 7,
     "metadata": {},
     "output_type": "execute_result"
    }
   ],
   "source": [
    "df.describe()"
   ]
  },
  {
   "cell_type": "markdown",
   "id": "6fcf9b99",
   "metadata": {},
   "source": [
    "# Sorting the Data"
   ]
  },
  {
   "cell_type": "markdown",
   "id": "486515f9",
   "metadata": {},
   "source": [
    "Checking for null values"
   ]
  },
  {
   "cell_type": "code",
   "execution_count": 8,
   "id": "7618b177",
   "metadata": {},
   "outputs": [
    {
     "data": {
      "text/html": [
       "<div>\n",
       "<style scoped>\n",
       "    .dataframe tbody tr th:only-of-type {\n",
       "        vertical-align: middle;\n",
       "    }\n",
       "\n",
       "    .dataframe tbody tr th {\n",
       "        vertical-align: top;\n",
       "    }\n",
       "\n",
       "    .dataframe thead th {\n",
       "        text-align: right;\n",
       "    }\n",
       "</style>\n",
       "<table border=\"1\" class=\"dataframe\">\n",
       "  <thead>\n",
       "    <tr style=\"text-align: right;\">\n",
       "      <th></th>\n",
       "      <th>column_name</th>\n",
       "      <th>percentage</th>\n",
       "    </tr>\n",
       "  </thead>\n",
       "  <tbody>\n",
       "    <tr>\n",
       "      <th>0</th>\n",
       "      <td>Date</td>\n",
       "      <td>0.0</td>\n",
       "    </tr>\n",
       "    <tr>\n",
       "      <th>1</th>\n",
       "      <td>Open</td>\n",
       "      <td>0.0</td>\n",
       "    </tr>\n",
       "    <tr>\n",
       "      <th>2</th>\n",
       "      <td>High</td>\n",
       "      <td>0.0</td>\n",
       "    </tr>\n",
       "    <tr>\n",
       "      <th>3</th>\n",
       "      <td>Low</td>\n",
       "      <td>0.0</td>\n",
       "    </tr>\n",
       "    <tr>\n",
       "      <th>4</th>\n",
       "      <td>Close</td>\n",
       "      <td>0.0</td>\n",
       "    </tr>\n",
       "    <tr>\n",
       "      <th>5</th>\n",
       "      <td>Adj Close</td>\n",
       "      <td>0.0</td>\n",
       "    </tr>\n",
       "    <tr>\n",
       "      <th>6</th>\n",
       "      <td>Volume</td>\n",
       "      <td>0.0</td>\n",
       "    </tr>\n",
       "  </tbody>\n",
       "</table>\n",
       "</div>"
      ],
      "text/plain": [
       "  column_name  percentage\n",
       "0        Date         0.0\n",
       "1        Open         0.0\n",
       "2        High         0.0\n",
       "3         Low         0.0\n",
       "4       Close         0.0\n",
       "5   Adj Close         0.0\n",
       "6      Volume         0.0"
      ]
     },
     "execution_count": 8,
     "metadata": {},
     "output_type": "execute_result"
    }
   ],
   "source": [
    "NAN = [(c, df[c].isnull().mean()*100) for c in df]\n",
    "NAN = pd.DataFrame(NAN, columns=['column_name', 'percentage'])\n",
    "NAN"
   ]
  },
  {
   "cell_type": "code",
   "execution_count": 9,
   "id": "5df002fc",
   "metadata": {},
   "outputs": [
    {
     "data": {
      "text/html": [
       "<div>\n",
       "<style scoped>\n",
       "    .dataframe tbody tr th:only-of-type {\n",
       "        vertical-align: middle;\n",
       "    }\n",
       "\n",
       "    .dataframe tbody tr th {\n",
       "        vertical-align: top;\n",
       "    }\n",
       "\n",
       "    .dataframe thead th {\n",
       "        text-align: right;\n",
       "    }\n",
       "</style>\n",
       "<table border=\"1\" class=\"dataframe\">\n",
       "  <thead>\n",
       "    <tr style=\"text-align: right;\">\n",
       "      <th></th>\n",
       "      <th>Date</th>\n",
       "      <th>Open</th>\n",
       "      <th>High</th>\n",
       "      <th>Low</th>\n",
       "      <th>Close</th>\n",
       "      <th>Adj Close</th>\n",
       "      <th>Volume</th>\n",
       "    </tr>\n",
       "  </thead>\n",
       "  <tbody>\n",
       "    <tr>\n",
       "      <th>0</th>\n",
       "      <td>2022-06-30</td>\n",
       "      <td>224.509995</td>\n",
       "      <td>229.456665</td>\n",
       "      <td>218.863327</td>\n",
       "      <td>224.473328</td>\n",
       "      <td>224.473328</td>\n",
       "      <td>94600500</td>\n",
       "    </tr>\n",
       "    <tr>\n",
       "      <th>1</th>\n",
       "      <td>2022-07-01</td>\n",
       "      <td>227.000000</td>\n",
       "      <td>230.229996</td>\n",
       "      <td>222.119995</td>\n",
       "      <td>227.263336</td>\n",
       "      <td>227.263336</td>\n",
       "      <td>74460300</td>\n",
       "    </tr>\n",
       "    <tr>\n",
       "      <th>2</th>\n",
       "      <td>2022-07-05</td>\n",
       "      <td>223.000000</td>\n",
       "      <td>233.146667</td>\n",
       "      <td>216.166672</td>\n",
       "      <td>233.066666</td>\n",
       "      <td>233.066666</td>\n",
       "      <td>84581100</td>\n",
       "    </tr>\n",
       "    <tr>\n",
       "      <th>3</th>\n",
       "      <td>2022-07-06</td>\n",
       "      <td>230.779999</td>\n",
       "      <td>234.563339</td>\n",
       "      <td>227.186661</td>\n",
       "      <td>231.733337</td>\n",
       "      <td>231.733337</td>\n",
       "      <td>71853600</td>\n",
       "    </tr>\n",
       "    <tr>\n",
       "      <th>4</th>\n",
       "      <td>2022-07-07</td>\n",
       "      <td>233.919998</td>\n",
       "      <td>245.363327</td>\n",
       "      <td>232.210007</td>\n",
       "      <td>244.543335</td>\n",
       "      <td>244.543335</td>\n",
       "      <td>81930600</td>\n",
       "    </tr>\n",
       "  </tbody>\n",
       "</table>\n",
       "</div>"
      ],
      "text/plain": [
       "         Date        Open        High         Low       Close   Adj Close  \\\n",
       "0  2022-06-30  224.509995  229.456665  218.863327  224.473328  224.473328   \n",
       "1  2022-07-01  227.000000  230.229996  222.119995  227.263336  227.263336   \n",
       "2  2022-07-05  223.000000  233.146667  216.166672  233.066666  233.066666   \n",
       "3  2022-07-06  230.779999  234.563339  227.186661  231.733337  231.733337   \n",
       "4  2022-07-07  233.919998  245.363327  232.210007  244.543335  244.543335   \n",
       "\n",
       "     Volume  \n",
       "0  94600500  \n",
       "1  74460300  \n",
       "2  84581100  \n",
       "3  71853600  \n",
       "4  81930600  "
      ]
     },
     "execution_count": 9,
     "metadata": {},
     "output_type": "execute_result"
    }
   ],
   "source": [
    "srt = df.sort_values(by='Date')\n",
    "srt.head()"
   ]
  },
  {
   "cell_type": "code",
   "execution_count": 10,
   "id": "bba839ff",
   "metadata": {},
   "outputs": [],
   "source": [
    "srt.reset_index(inplace=True)"
   ]
  },
  {
   "cell_type": "code",
   "execution_count": 11,
   "id": "1fd3dda1",
   "metadata": {},
   "outputs": [
    {
     "data": {
      "text/html": [
       "<div>\n",
       "<style scoped>\n",
       "    .dataframe tbody tr th:only-of-type {\n",
       "        vertical-align: middle;\n",
       "    }\n",
       "\n",
       "    .dataframe tbody tr th {\n",
       "        vertical-align: top;\n",
       "    }\n",
       "\n",
       "    .dataframe thead th {\n",
       "        text-align: right;\n",
       "    }\n",
       "</style>\n",
       "<table border=\"1\" class=\"dataframe\">\n",
       "  <thead>\n",
       "    <tr style=\"text-align: right;\">\n",
       "      <th></th>\n",
       "      <th>index</th>\n",
       "      <th>Date</th>\n",
       "      <th>Open</th>\n",
       "      <th>High</th>\n",
       "      <th>Low</th>\n",
       "      <th>Close</th>\n",
       "      <th>Adj Close</th>\n",
       "      <th>Volume</th>\n",
       "    </tr>\n",
       "  </thead>\n",
       "  <tbody>\n",
       "    <tr>\n",
       "      <th>0</th>\n",
       "      <td>0</td>\n",
       "      <td>2022-06-30</td>\n",
       "      <td>224.509995</td>\n",
       "      <td>229.456665</td>\n",
       "      <td>218.863327</td>\n",
       "      <td>224.473328</td>\n",
       "      <td>224.473328</td>\n",
       "      <td>94600500</td>\n",
       "    </tr>\n",
       "    <tr>\n",
       "      <th>1</th>\n",
       "      <td>1</td>\n",
       "      <td>2022-07-01</td>\n",
       "      <td>227.000000</td>\n",
       "      <td>230.229996</td>\n",
       "      <td>222.119995</td>\n",
       "      <td>227.263336</td>\n",
       "      <td>227.263336</td>\n",
       "      <td>74460300</td>\n",
       "    </tr>\n",
       "    <tr>\n",
       "      <th>2</th>\n",
       "      <td>2</td>\n",
       "      <td>2022-07-05</td>\n",
       "      <td>223.000000</td>\n",
       "      <td>233.146667</td>\n",
       "      <td>216.166672</td>\n",
       "      <td>233.066666</td>\n",
       "      <td>233.066666</td>\n",
       "      <td>84581100</td>\n",
       "    </tr>\n",
       "    <tr>\n",
       "      <th>3</th>\n",
       "      <td>3</td>\n",
       "      <td>2022-07-06</td>\n",
       "      <td>230.779999</td>\n",
       "      <td>234.563339</td>\n",
       "      <td>227.186661</td>\n",
       "      <td>231.733337</td>\n",
       "      <td>231.733337</td>\n",
       "      <td>71853600</td>\n",
       "    </tr>\n",
       "    <tr>\n",
       "      <th>4</th>\n",
       "      <td>4</td>\n",
       "      <td>2022-07-07</td>\n",
       "      <td>233.919998</td>\n",
       "      <td>245.363327</td>\n",
       "      <td>232.210007</td>\n",
       "      <td>244.543335</td>\n",
       "      <td>244.543335</td>\n",
       "      <td>81930600</td>\n",
       "    </tr>\n",
       "  </tbody>\n",
       "</table>\n",
       "</div>"
      ],
      "text/plain": [
       "   index        Date        Open        High         Low       Close  \\\n",
       "0      0  2022-06-30  224.509995  229.456665  218.863327  224.473328   \n",
       "1      1  2022-07-01  227.000000  230.229996  222.119995  227.263336   \n",
       "2      2  2022-07-05  223.000000  233.146667  216.166672  233.066666   \n",
       "3      3  2022-07-06  230.779999  234.563339  227.186661  231.733337   \n",
       "4      4  2022-07-07  233.919998  245.363327  232.210007  244.543335   \n",
       "\n",
       "    Adj Close    Volume  \n",
       "0  224.473328  94600500  \n",
       "1  227.263336  74460300  \n",
       "2  233.066666  84581100  \n",
       "3  231.733337  71853600  \n",
       "4  244.543335  81930600  "
      ]
     },
     "execution_count": 11,
     "metadata": {},
     "output_type": "execute_result"
    }
   ],
   "source": [
    "srt.head()"
   ]
  },
  {
   "cell_type": "markdown",
   "id": "cc7191cc",
   "metadata": {},
   "source": [
    "# Data Visualization"
   ]
  },
  {
   "cell_type": "markdown",
   "id": "317140d7",
   "metadata": {},
   "source": [
    "Plotting the graph for the Data and Close"
   ]
  },
  {
   "cell_type": "code",
   "execution_count": 12,
   "id": "7a766b19",
   "metadata": {},
   "outputs": [
    {
     "data": {
      "text/plain": [
       "[<matplotlib.lines.Line2D at 0x27ee2713700>]"
      ]
     },
     "execution_count": 12,
     "metadata": {},
     "output_type": "execute_result"
    },
    {
     "data": {
      "image/png": "[encoded data removed]",
      "text/plain": [
       "<Figure size 1000x700 with 1 Axes>"
      ]
     },
     "metadata": {},
     "output_type": "display_data"
    }
   ],
   "source": [
    "plt.figure(figsize=(10,7))\n",
    "plt.plot(srt['Date'], srt['Close'])"
   ]
  },
  {
   "cell_type": "code",
   "execution_count": 13,
   "id": "8c365707",
   "metadata": {},
   "outputs": [
    {
     "data": {
      "text/plain": [
       "0      224.473328\n",
       "1      227.263336\n",
       "2      233.066666\n",
       "3      231.733337\n",
       "4      244.543335\n",
       "          ...    \n",
       "246    256.600006\n",
       "247    241.050003\n",
       "248    250.210007\n",
       "249    256.239990\n",
       "250    257.500000\n",
       "Name: Close, Length: 251, dtype: float64"
      ]
     },
     "execution_count": 13,
     "metadata": {},
     "output_type": "execute_result"
    }
   ],
   "source": [
    "close_srt = srt['Close']\n",
    "close_srt"
   ]
  },
  {
   "cell_type": "markdown",
   "id": "0757ced9",
   "metadata": {},
   "source": [
    "# Feature Scaling(MinMax Scaler)"
   ]
  },
  {
   "cell_type": "code",
   "execution_count": 14,
   "id": "209a9cfc",
   "metadata": {},
   "outputs": [
    {
     "data": {
      "text/plain": [
       "array([[0.57833876],\n",
       "       [0.59220422],\n",
       "       [0.62104494],\n",
       "       [0.61441871],\n",
       "       [0.67808036],\n",
       "       [0.70899181],\n",
       "       [0.6273896 ],\n",
       "       [0.62106154],\n",
       "       [0.64079112],\n",
       "       [0.64711925],\n",
       "       [0.65583273],\n",
       "       [0.65821815],\n",
       "       [0.68298377],\n",
       "       [0.69277406],\n",
       "       [0.81307355],\n",
       "       [0.81574069],\n",
       "       [0.79680605],\n",
       "       [0.7492296 ],\n",
       "       [0.82854588],\n",
       "       [0.8587615 ],\n",
       "       [0.93951887],\n",
       "       [0.94014842],\n",
       "       [0.95659807],\n",
       "       [0.99044161],\n",
       "       [0.99658744],\n",
       "       [0.8948912 ],\n",
       "       [0.90608952],\n",
       "       [0.87085448],\n",
       "       [0.92563688],\n",
       "       [0.88723784],\n",
       "       [0.95383159],\n",
       "       [1.        ],\n",
       "       [0.98630015],\n",
       "       [0.97354471],\n",
       "       [0.96794547],\n",
       "       [0.93711684],\n",
       "       [0.90355493],\n",
       "       [0.93605672],\n",
       "       [0.93925392],\n",
       "       [0.93415168],\n",
       "       [0.89449354],\n",
       "       [0.87824272],\n",
       "       [0.84285859],\n",
       "       [0.83247182],\n",
       "       [0.84017493],\n",
       "       [0.80563555],\n",
       "       [0.82655803],\n",
       "       [0.8726767 ],\n",
       "       [0.90030814],\n",
       "       [0.95209217],\n",
       "       [0.97564857],\n",
       "       [0.91457111],\n",
       "       [0.96665331],\n",
       "       [0.97231882],\n",
       "       [0.97033098],\n",
       "       [0.99875758],\n",
       "       [0.99706791],\n",
       "       [0.95765819],\n",
       "       [0.89697838],\n",
       "       [0.83108032],\n",
       "       [0.83445982],\n",
       "       [0.86889969],\n",
       "       [0.89310204],\n",
       "       [0.79569618],\n",
       "       [0.78098596],\n",
       "       [0.66742864],\n",
       "       [0.70241526],\n",
       "       [0.65952686],\n",
       "       [0.64620814],\n",
       "       [0.57136469],\n",
       "       [0.57081803],\n",
       "       [0.53871383],\n",
       "       [0.54239142],\n",
       "       [0.56465559],\n",
       "       [0.48151279],\n",
       "       [0.55287746],\n",
       "       [0.55705198],\n",
       "       [0.56624585],\n",
       "       [0.49289333],\n",
       "       [0.52847629],\n",
       "       [0.51262299],\n",
       "       [0.56813435],\n",
       "       [0.57916706],\n",
       "       [0.5814034 ],\n",
       "       [0.59844946],\n",
       "       [0.59357912],\n",
       "       [0.5949707 ],\n",
       "       [0.53115989],\n",
       "       [0.5327999 ],\n",
       "       [0.49383758],\n",
       "       [0.44220256],\n",
       "       [0.41347779],\n",
       "       [0.34534338],\n",
       "       [0.41059536],\n",
       "       [0.43668621],\n",
       "       [0.41173837],\n",
       "       [0.42898318],\n",
       "       [0.39171055],\n",
       "       [0.37307423],\n",
       "       [0.35826459],\n",
       "       [0.29703804],\n",
       "       [0.30717624],\n",
       "       [0.37322332],\n",
       "       [0.37153364],\n",
       "       [0.37183181],\n",
       "       [0.36144519],\n",
       "       [0.43037469],\n",
       "       [0.43037469],\n",
       "       [0.43116986],\n",
       "       [0.36949605],\n",
       "       [0.35642583],\n",
       "       [0.32770098],\n",
       "       [0.32471922],\n",
       "       [0.35259915],\n",
       "       [0.29678961],\n",
       "       [0.26264783],\n",
       "       [0.24202367],\n",
       "       [0.24634727],\n",
       "       [0.20937281],\n",
       "       [0.20758371],\n",
       "       [0.14759966],\n",
       "       [0.14645665],\n",
       "       [0.08572706],\n",
       "       [0.07479377],\n",
       "       [0.00496968],\n",
       "       [0.02291025],\n",
       "       [0.06818408],\n",
       "       [0.07494286],\n",
       "       [0.        ],\n",
       "       [0.02753206],\n",
       "       [0.01113208],\n",
       "       [0.02464964],\n",
       "       [0.05799622],\n",
       "       [0.05342411],\n",
       "       [0.07514165],\n",
       "       [0.07683133],\n",
       "       [0.07106651],\n",
       "       [0.11624096],\n",
       "       [0.10277308],\n",
       "       [0.09477189],\n",
       "       [0.12583242],\n",
       "       [0.17716927],\n",
       "       [0.17786502],\n",
       "       [0.18054862],\n",
       "       [0.25926848],\n",
       "       [0.34688397],\n",
       "       [0.29102477],\n",
       "       [0.32362588],\n",
       "       [0.36432762],\n",
       "       [0.39841965],\n",
       "       [0.40691777],\n",
       "       [0.43067286],\n",
       "       [0.44086073],\n",
       "       [0.46312489],\n",
       "       [0.49309216],\n",
       "       [0.44125831],\n",
       "       [0.43007652],\n",
       "       [0.50268362],\n",
       "       [0.52748237],\n",
       "       [0.46685216],\n",
       "       [0.4980121 ],\n",
       "       [0.44364374],\n",
       "       [0.46098797],\n",
       "       [0.46700132],\n",
       "       [0.44120864],\n",
       "       [0.49463275],\n",
       "       [0.48509097],\n",
       "       [0.47048008],\n",
       "       [0.41148987],\n",
       "       [0.445731  ],\n",
       "       [0.42595168],\n",
       "       [0.39563664],\n",
       "       [0.36725971],\n",
       "       [0.32213496],\n",
       "       [0.32471922],\n",
       "       [0.32988766],\n",
       "       [0.37352149],\n",
       "       [0.35955668],\n",
       "       [0.37784516],\n",
       "       [0.35796642],\n",
       "       [0.37347182],\n",
       "       [0.44468741],\n",
       "       [0.41273229],\n",
       "       [0.41804989],\n",
       "       [0.40905478],\n",
       "       [0.41601231],\n",
       "       [0.40299175],\n",
       "       [0.42629959],\n",
       "       [0.43325712],\n",
       "       [0.49378792],\n",
       "       [0.4307226 ],\n",
       "       [0.41983898],\n",
       "       [0.38475302],\n",
       "       [0.38246693],\n",
       "       [0.37973359],\n",
       "       [0.39106446],\n",
       "       [0.36000393],\n",
       "       [0.38664145],\n",
       "       [0.38216876],\n",
       "       [0.39230689],\n",
       "       [0.37873967],\n",
       "       [0.36025243],\n",
       "       [0.27278603],\n",
       "       [0.28317265],\n",
       "       [0.27059936],\n",
       "       [0.26125632],\n",
       "       [0.22686612],\n",
       "       [0.2588709 ],\n",
       "       [0.27934598],\n",
       "       [0.26702118],\n",
       "       [0.25946724],\n",
       "       [0.26095816],\n",
       "       [0.26389025],\n",
       "       [0.30792166],\n",
       "       [0.31651919],\n",
       "       [0.30339923],\n",
       "       [0.30036772],\n",
       "       [0.31796045],\n",
       "       [0.29758471],\n",
       "       [0.28948417],\n",
       "       [0.29032901],\n",
       "       [0.32680648],\n",
       "       [0.34186462],\n",
       "       [0.35801609],\n",
       "       [0.40140142],\n",
       "       [0.38599544],\n",
       "       [0.3717324 ],\n",
       "       [0.37953484],\n",
       "       [0.42277108],\n",
       "       [0.46247889],\n",
       "       [0.47624486],\n",
       "       [0.49408608],\n",
       "       [0.52614053],\n",
       "       [0.54423019],\n",
       "       [0.562618  ],\n",
       "       [0.57881922],\n",
       "       [0.62995725],\n",
       "       [0.677368  ],\n",
       "       [0.70435343],\n",
       "       [0.74848418],\n",
       "       [0.73894247],\n",
       "       [0.73451938],\n",
       "       [0.75757879],\n",
       "       [0.82670712],\n",
       "       [0.75221144],\n",
       "       [0.77780529],\n",
       "       [0.73799822],\n",
       "       [0.66071961],\n",
       "       [0.70624194],\n",
       "       [0.73620905],\n",
       "       [0.7424709 ]])"
      ]
     },
     "execution_count": 14,
     "metadata": {},
     "output_type": "execute_result"
    }
   ],
   "source": [
    "scaler = MinMaxScaler(feature_range=(0,1))\n",
    "close_srt = scaler.fit_transform(np.array(close_srt).reshape(-1,1))\n",
    "close_srt"
   ]
  },
  {
   "cell_type": "markdown",
   "id": "48e3a130",
   "metadata": {},
   "source": [
    "# Splitting the Dataset"
   ]
  },
  {
   "cell_type": "code",
   "execution_count": 15,
   "id": "666950e0",
   "metadata": {},
   "outputs": [],
   "source": [
    "train_size = int(len(close_srt)*0.7)\n",
    "test_size = len(close_srt) - train_size\n",
    "train_data, test_data = close_srt[0:train_size,:],close_srt[train_size:len(close_srt),:1]"
   ]
  },
  {
   "cell_type": "code",
   "execution_count": 16,
   "id": "801f5310",
   "metadata": {},
   "outputs": [
    {
     "data": {
      "text/plain": [
       "(175, 1)"
      ]
     },
     "execution_count": 16,
     "metadata": {},
     "output_type": "execute_result"
    }
   ],
   "source": [
    "train_data.shape"
   ]
  },
  {
   "cell_type": "code",
   "execution_count": 17,
   "id": "338fe58c",
   "metadata": {},
   "outputs": [
    {
     "data": {
      "text/plain": [
       "(76, 1)"
      ]
     },
     "execution_count": 17,
     "metadata": {},
     "output_type": "execute_result"
    }
   ],
   "source": [
    "test_data.shape"
   ]
  },
  {
   "cell_type": "markdown",
   "id": "5e13cc6e",
   "metadata": {},
   "source": [
    "# Converting an array of values into a dataset matrix"
   ]
  },
  {
   "cell_type": "code",
   "execution_count": 18,
   "id": "aabb5eec",
   "metadata": {},
   "outputs": [],
   "source": [
    "def create_dataset(dataset, time_step=1):\n",
    "    dataX, dataY = [], []\n",
    "    for i in range(len(dataset)-time_step-1):\n",
    "        a = dataset[i:(i+time_step), 0]\n",
    "        dataX.append(a)\n",
    "        dataY.append(dataset[i+time_step, 0])\n",
    "    return np.array(dataX), np.array(dataY)"
   ]
  },
  {
   "cell_type": "markdown",
   "id": "395e846c",
   "metadata": {},
   "source": [
    "# Reshaping of Dataset"
   ]
  },
  {
   "cell_type": "code",
   "execution_count": 19,
   "id": "d093777a",
   "metadata": {},
   "outputs": [],
   "source": [
    "time_step = 100\n",
    "X_train, y_train = create_dataset(train_data, time_step)\n",
    "X_test, y_test = create_dataset(test_data, time_step)"
   ]
  },
  {
   "cell_type": "code",
   "execution_count": 20,
   "id": "7e4ded94",
   "metadata": {},
   "outputs": [
    {
     "name": "stdout",
     "output_type": "stream",
     "text": [
      "(74, 100)\n",
      "(74,)\n"
     ]
    },
    {
     "data": {
      "text/plain": [
       "(None, None)"
      ]
     },
     "execution_count": 20,
     "metadata": {},
     "output_type": "execute_result"
    }
   ],
   "source": [
    "print(X_train.shape), print(y_train.shape)"
   ]
  },
  {
   "cell_type": "code",
   "execution_count": 21,
   "id": "1c81301f",
   "metadata": {},
   "outputs": [
    {
     "data": {
      "text/plain": [
       "(76, 1)"
      ]
     },
     "execution_count": 21,
     "metadata": {},
     "output_type": "execute_result"
    }
   ],
   "source": [
    "test_data.shape"
   ]
  },
  {
   "cell_type": "code",
   "execution_count": 22,
   "id": "edd6d6ff",
   "metadata": {},
   "outputs": [],
   "source": [
    "X_train = X_train.reshape(X_train.shape[0], X_train.shape[1], 1)\n",
    "X_test = X_test.reshape(X_test.shape[0], test_data.shape[1], 1)"
   ]
  },
  {
   "cell_type": "code",
   "execution_count": 23,
   "id": "072c6010",
   "metadata": {},
   "outputs": [
    {
     "data": {
      "text/plain": [
       "array([[[0.57833876],\n",
       "        [0.59220422],\n",
       "        [0.62104494],\n",
       "        ...,\n",
       "        [0.39171055],\n",
       "        [0.37307423],\n",
       "        [0.35826459]],\n",
       "\n",
       "       [[0.59220422],\n",
       "        [0.62104494],\n",
       "        [0.61441871],\n",
       "        ...,\n",
       "        [0.37307423],\n",
       "        [0.35826459],\n",
       "        [0.29703804]],\n",
       "\n",
       "       [[0.62104494],\n",
       "        [0.61441871],\n",
       "        [0.67808036],\n",
       "        ...,\n",
       "        [0.35826459],\n",
       "        [0.29703804],\n",
       "        [0.30717624]],\n",
       "\n",
       "       ...,\n",
       "\n",
       "       [[0.53871383],\n",
       "        [0.54239142],\n",
       "        [0.56465559],\n",
       "        ...,\n",
       "        [0.41148987],\n",
       "        [0.445731  ],\n",
       "        [0.42595168]],\n",
       "\n",
       "       [[0.54239142],\n",
       "        [0.56465559],\n",
       "        [0.48151279],\n",
       "        ...,\n",
       "        [0.445731  ],\n",
       "        [0.42595168],\n",
       "        [0.39563664]],\n",
       "\n",
       "       [[0.56465559],\n",
       "        [0.48151279],\n",
       "        [0.55287746],\n",
       "        ...,\n",
       "        [0.42595168],\n",
       "        [0.39563664],\n",
       "        [0.36725971]]])"
      ]
     },
     "execution_count": 23,
     "metadata": {},
     "output_type": "execute_result"
    }
   ],
   "source": [
    "X_train"
   ]
  },
  {
   "cell_type": "code",
   "execution_count": 24,
   "id": "1256675e",
   "metadata": {},
   "outputs": [
    {
     "data": {
      "text/plain": [
       "array([], shape=(0, 1, 1), dtype=float64)"
      ]
     },
     "execution_count": 24,
     "metadata": {},
     "output_type": "execute_result"
    }
   ],
   "source": [
    "X_test"
   ]
  },
  {
   "cell_type": "markdown",
   "id": "ba2a2b23",
   "metadata": {},
   "source": [
    "# Creating LSTM Model"
   ]
  },
  {
   "cell_type": "code",
   "execution_count": 25,
   "id": "4d5c7b13",
   "metadata": {},
   "outputs": [],
   "source": [
    "model = Sequential()\n",
    "model.add(LSTM(50, return_sequences=True, input_shape=(100,1)))\n",
    "model.add(LSTM(50, return_sequences=True))\n",
    "model.add(LSTM(50))\n",
    "model.add(Dense(1))\n",
    "model.compile(loss='mean_squared_error', optimizer='adam')"
   ]
  },
  {
   "cell_type": "code",
   "execution_count": 26,
   "id": "49e4d8ed",
   "metadata": {},
   "outputs": [
    {
     "name": "stdout",
     "output_type": "stream",
     "text": [
      "Model: \"sequential\"\n",
      "_________________________________________________________________\n",
      " Layer (type)                Output Shape              Param #   \n",
      "=================================================================\n",
      " lstm (LSTM)                 (None, 100, 50)           10400     \n",
      "                                                                 \n",
      " lstm_1 (LSTM)               (None, 100, 50)           20200     \n",
      "                                                                 \n",
      " lstm_2 (LSTM)               (None, 50)                20200     \n",
      "                                                                 \n",
      " dense (Dense)               (None, 1)                 51        \n",
      "                                                                 \n",
      "=================================================================\n",
      "Total params: 50851 (198.64 KB)\n",
      "Trainable params: 50851 (198.64 KB)\n",
      "Non-trainable params: 0 (0.00 Byte)\n",
      "_________________________________________________________________\n"
     ]
    }
   ],
   "source": [
    "model.summary()"
   ]
  },
  {
   "cell_type": "markdown",
   "id": "2e5d5dd1",
   "metadata": {},
   "source": [
    "# Prediction and Checking Performance"
   ]
  },
  {
   "cell_type": "code",
   "execution_count": 27,
   "id": "bbf0b77b",
   "metadata": {},
   "outputs": [
    {
     "name": "stdout",
     "output_type": "stream",
     "text": [
      "Epoch 1/60\n",
      "2/2 [==============================] - 12s 2s/step - loss: 0.1080 - val_loss: 0.0943\n",
      "Epoch 2/60\n",
      "2/2 [==============================] - 0s 206ms/step - loss: 0.0574 - val_loss: 0.0238\n",
      "Epoch 3/60\n",
      "2/2 [==============================] - 1s 222ms/step - loss: 0.0294 - val_loss: 0.0046\n",
      "Epoch 4/60\n",
      "2/2 [==============================] - 0s 222ms/step - loss: 0.0270 - val_loss: 0.0067\n",
      "Epoch 5/60\n",
      "2/2 [==============================] - 0s 233ms/step - loss: 0.0237 - val_loss: 0.0096\n",
      "Epoch 6/60\n",
      "2/2 [==============================] - 0s 205ms/step - loss: 0.0223 - val_loss: 0.0065\n",
      "Epoch 7/60\n",
      "2/2 [==============================] - 0s 208ms/step - loss: 0.0208 - val_loss: 0.0038\n",
      "Epoch 8/60\n",
      "2/2 [==============================] - 0s 203ms/step - loss: 0.0197 - val_loss: 0.0032\n",
      "Epoch 9/60\n",
      "2/2 [==============================] - 0s 193ms/step - loss: 0.0186 - val_loss: 0.0032\n",
      "Epoch 10/60\n",
      "2/2 [==============================] - 0s 189ms/step - loss: 0.0174 - val_loss: 0.0032\n",
      "Epoch 11/60\n",
      "2/2 [==============================] - 0s 222ms/step - loss: 0.0162 - val_loss: 0.0035\n",
      "Epoch 12/60\n",
      "2/2 [==============================] - 0s 210ms/step - loss: 0.0153 - val_loss: 0.0038\n",
      "Epoch 13/60\n",
      "2/2 [==============================] - 0s 209ms/step - loss: 0.0145 - val_loss: 0.0024\n",
      "Epoch 14/60\n",
      "2/2 [==============================] - 0s 190ms/step - loss: 0.0132 - val_loss: 0.0033\n",
      "Epoch 15/60\n",
      "2/2 [==============================] - 0s 206ms/step - loss: 0.0138 - val_loss: 0.0075\n",
      "Epoch 16/60\n",
      "2/2 [==============================] - 0s 207ms/step - loss: 0.0153 - val_loss: 0.0043\n",
      "Epoch 17/60\n",
      "2/2 [==============================] - 0s 189ms/step - loss: 0.0126 - val_loss: 0.0014\n",
      "Epoch 18/60\n",
      "2/2 [==============================] - 0s 206ms/step - loss: 0.0101 - val_loss: 0.0036\n",
      "Epoch 19/60\n",
      "2/2 [==============================] - 0s 205ms/step - loss: 0.0106 - val_loss: 0.0043\n",
      "Epoch 20/60\n",
      "2/2 [==============================] - 0s 189ms/step - loss: 0.0103 - val_loss: 0.0015\n",
      "Epoch 21/60\n",
      "2/2 [==============================] - 0s 206ms/step - loss: 0.0086 - val_loss: 0.0012\n",
      "Epoch 22/60\n",
      "2/2 [==============================] - 0s 221ms/step - loss: 0.0083 - val_loss: 0.0039\n",
      "Epoch 23/60\n",
      "2/2 [==============================] - 0s 205ms/step - loss: 0.0095 - val_loss: 0.0055\n",
      "Epoch 24/60\n",
      "2/2 [==============================] - 0s 205ms/step - loss: 0.0098 - val_loss: 9.0713e-04\n",
      "Epoch 25/60\n",
      "2/2 [==============================] - 0s 206ms/step - loss: 0.0075 - val_loss: 0.0051\n",
      "Epoch 26/60\n",
      "2/2 [==============================] - 0s 222ms/step - loss: 0.0088 - val_loss: 0.0061\n",
      "Epoch 27/60\n",
      "2/2 [==============================] - 0s 207ms/step - loss: 0.0086 - val_loss: 0.0016\n",
      "Epoch 28/60\n",
      "2/2 [==============================] - 0s 213ms/step - loss: 0.0069 - val_loss: 7.5397e-04\n",
      "Epoch 29/60\n",
      "2/2 [==============================] - 0s 205ms/step - loss: 0.0065 - val_loss: 0.0021\n",
      "Epoch 30/60\n",
      "2/2 [==============================] - 0s 205ms/step - loss: 0.0063 - val_loss: 0.0080\n",
      "Epoch 31/60\n",
      "2/2 [==============================] - 0s 207ms/step - loss: 0.0076 - val_loss: 0.0119\n",
      "Epoch 32/60\n",
      "2/2 [==============================] - 0s 205ms/step - loss: 0.0085 - val_loss: 0.0100\n",
      "Epoch 33/60\n",
      "2/2 [==============================] - 0s 205ms/step - loss: 0.0077 - val_loss: 0.0059\n",
      "Epoch 34/60\n",
      "2/2 [==============================] - 0s 207ms/step - loss: 0.0066 - val_loss: 0.0027\n",
      "Epoch 35/60\n",
      "2/2 [==============================] - 0s 205ms/step - loss: 0.0061 - val_loss: 0.0020\n",
      "Epoch 36/60\n",
      "2/2 [==============================] - 0s 189ms/step - loss: 0.0060 - val_loss: 0.0023\n",
      "Epoch 37/60\n",
      "2/2 [==============================] - 0s 195ms/step - loss: 0.0059 - val_loss: 0.0023\n",
      "Epoch 38/60\n",
      "2/2 [==============================] - 0s 205ms/step - loss: 0.0058 - val_loss: 0.0021\n",
      "Epoch 39/60\n",
      "2/2 [==============================] - 0s 205ms/step - loss: 0.0057 - val_loss: 0.0020\n",
      "Epoch 40/60\n",
      "2/2 [==============================] - 0s 207ms/step - loss: 0.0057 - val_loss: 0.0012\n",
      "Epoch 41/60\n",
      "2/2 [==============================] - 0s 206ms/step - loss: 0.0059 - val_loss: 0.0026\n",
      "Epoch 42/60\n",
      "2/2 [==============================] - 0s 216ms/step - loss: 0.0056 - val_loss: 0.0074\n",
      "Epoch 43/60\n",
      "2/2 [==============================] - 0s 190ms/step - loss: 0.0059 - val_loss: 0.0095\n",
      "Epoch 44/60\n",
      "2/2 [==============================] - 0s 197ms/step - loss: 0.0063 - val_loss: 0.0119\n",
      "Epoch 45/60\n",
      "2/2 [==============================] - 0s 190ms/step - loss: 0.0070 - val_loss: 0.0077\n",
      "Epoch 46/60\n",
      "2/2 [==============================] - 0s 223ms/step - loss: 0.0060 - val_loss: 0.0013\n",
      "Epoch 47/60\n",
      "2/2 [==============================] - 0s 222ms/step - loss: 0.0051 - val_loss: 0.0012\n",
      "Epoch 48/60\n",
      "2/2 [==============================] - 0s 205ms/step - loss: 0.0061 - val_loss: 0.0026\n",
      "Epoch 49/60\n",
      "2/2 [==============================] - 0s 194ms/step - loss: 0.0073 - val_loss: 0.0014\n",
      "Epoch 50/60\n",
      "2/2 [==============================] - 0s 206ms/step - loss: 0.0061 - val_loss: 0.0027\n",
      "Epoch 51/60\n",
      "2/2 [==============================] - 0s 194ms/step - loss: 0.0051 - val_loss: 0.0075\n",
      "Epoch 52/60\n",
      "2/2 [==============================] - 0s 190ms/step - loss: 0.0061 - val_loss: 0.0062\n",
      "Epoch 53/60\n",
      "2/2 [==============================] - 0s 205ms/step - loss: 0.0058 - val_loss: 0.0034\n",
      "Epoch 54/60\n",
      "2/2 [==============================] - 0s 207ms/step - loss: 0.0051 - val_loss: 0.0026\n",
      "Epoch 55/60\n",
      "2/2 [==============================] - 0s 206ms/step - loss: 0.0049 - val_loss: 0.0022\n",
      "Epoch 56/60\n",
      "2/2 [==============================] - 0s 206ms/step - loss: 0.0047 - val_loss: 0.0021\n",
      "Epoch 57/60\n",
      "2/2 [==============================] - 0s 206ms/step - loss: 0.0047 - val_loss: 0.0022\n",
      "Epoch 58/60\n",
      "2/2 [==============================] - 0s 206ms/step - loss: 0.0046 - val_loss: 0.0017\n",
      "Epoch 59/60\n",
      "2/2 [==============================] - 0s 205ms/step - loss: 0.0045 - val_loss: 0.0023\n",
      "Epoch 60/60\n",
      "2/2 [==============================] - 0s 183ms/step - loss: 0.0046 - val_loss: 0.0041\n"
     ]
    },
    {
     "data": {
      "text/plain": [
       "<keras.src.callbacks.History at 0x27ee5893190>"
      ]
     },
     "execution_count": 27,
     "metadata": {},
     "output_type": "execute_result"
    }
   ],
   "source": [
    "model.fit(X_train, y_train, validation_split=0.1, epochs=60, batch_size=64, verbose=1)"
   ]
  },
  {
   "cell_type": "code",
   "execution_count": 28,
   "id": "f898198f",
   "metadata": {},
   "outputs": [],
   "source": [
    "X_test=X_train"
   ]
  },
  {
   "cell_type": "code",
   "execution_count": 29,
   "id": "d2033018",
   "metadata": {},
   "outputs": [
    {
     "name": "stdout",
     "output_type": "stream",
     "text": [
      "3/3 [==============================] - 2s 55ms/step\n",
      "3/3 [==============================] - 0s 39ms/step\n"
     ]
    }
   ],
   "source": [
    "train_predict = model.predict(X_train)\n",
    "test_predict = model.predict(X_test)"
   ]
  },
  {
   "cell_type": "markdown",
   "id": "6360bdaf",
   "metadata": {},
   "source": [
    "# Calculating the Performance"
   ]
  },
  {
   "cell_type": "code",
   "execution_count": 33,
   "id": "eee1816a",
   "metadata": {},
   "outputs": [],
   "source": [
    "import math\n",
    "from sklearn.metrics import mean_squared_error"
   ]
  },
  {
   "cell_type": "code",
   "execution_count": 34,
   "id": "5f663e99",
   "metadata": {},
   "outputs": [
    {
     "data": {
      "text/plain": [
       "0.06997426350013852"
      ]
     },
     "execution_count": 34,
     "metadata": {},
     "output_type": "execute_result"
    }
   ],
   "source": [
    "math.sqrt(mean_squared_error(y_train, train_predict))"
   ]
  },
  {
   "cell_type": "code",
   "execution_count": 35,
   "id": "9f2095ab",
   "metadata": {},
   "outputs": [
    {
     "data": {
      "image/png": "[encoded data removed]",
      "text/plain": [
       "<Figure size 700x500 with 1 Axes>"
      ]
     },
     "metadata": {},
     "output_type": "display_data"
    }
   ],
   "source": [
    "look_back = 100\n",
    "\n",
    "trainPredictPlot = np.empty_like(close_srt)\n",
    "trainPredictPlot[:, :] = np.nan\n",
    "trainPredictPlot[look_back:len(train_predict)+look_back, :] = train_predict\n",
    "\n",
    "testPredictPlot = np.empty_like(close_srt)\n",
    "testPredictPlot[:, :] = np.nan\n",
    "testPredictPlot[look_back:len(train_predict)+look_back, :] = test_predict\n",
    "\n",
    "plt.figure(figsize=(7,5))\n",
    "\n",
    "plt.plot(trainPredictPlot)\n",
    "plt.plot(testPredictPlot)\n",
    "plt.show()"
   ]
  },
  {
   "cell_type": "code",
   "execution_count": null,
   "id": "6921f350",
   "metadata": {},
   "outputs": [],
   "source": []
  }
 ],
 "metadata": {
  "kernelspec": {
   "display_name": "Python 3 (ipykernel)",
   "language": "python",
   "name": "python3"
  },
  "language_info": {
   "codemirror_mode": {
    "name": "ipython",
    "version": 3
   },
   "file_extension": ".py",
   "mimetype": "text/x-python",
   "name": "python",
   "nbconvert_exporter": "python",
   "pygments_lexer": "ipython3",
   "version": "3.10.9"
  }
 },
 "nbformat": 4,
 "nbformat_minor": 5
}
